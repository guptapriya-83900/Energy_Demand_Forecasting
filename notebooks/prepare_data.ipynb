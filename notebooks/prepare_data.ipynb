{
 "cells": [
  {
   "cell_type": "code",
   "execution_count": 2,
   "metadata": {},
   "outputs": [],
   "source": [
    "import os\n",
    "import sys\n",
    "\n",
    "# Add the project root directory to sys.path\n",
    "PROJECT_ROOT = os.path.abspath(os.path.join(os.getcwd(), \"../\"))\n",
    "sys.path.append(PROJECT_ROOT)\n",
    "\n",
    "from scripts.prepare_data import prepare_data"
   ]
  },
  {
   "cell_type": "code",
   "execution_count": 4,
   "metadata": {},
   "outputs": [
    {
     "name": "stdout",
     "output_type": "stream",
     "text": [
      "Training Data Shape: (3781, 24)\n",
      "Test Data Shape: (946, 24)\n"
     ]
    }
   ],
   "source": [
    "# Path to cleaned data\n",
    "cleaned_data_path = \"../data/processed/cleaned_energy_data.csv\"\n",
    "\n",
    "# Prepare data for next-day prediction\n",
    "X_train, X_test, y_train, y_test, scaler = prepare_data(cleaned_data_path)\n",
    "\n",
    "print(\"Training Data Shape:\", X_train.shape)\n",
    "print(\"Test Data Shape:\", X_test.shape)\n"
   ]
  },
  {
   "cell_type": "code",
   "execution_count": 5,
   "metadata": {},
   "outputs": [
    {
     "name": "stdout",
     "output_type": "stream",
     "text": [
      "Sample Training Input Sequence: [0.01413008 0.20165868 0.18752859 0.00229572 0.00580282 0.0150111\n",
      " 0.02750623 0.00439659 0.2291649  0.01490097 0.21224777 0.1973468\n",
      " 0.00237196 0.00714976 0.00587059 0.01511275 0.02797215 0.01829795\n",
      " 0.0111482  0.00461684 0.25851787 0.02150856 0.0155109  0.21994816]\n",
      "Sample Training Target: 0.005912949189299087\n"
     ]
    }
   ],
   "source": [
    "print(\"Sample Training Input Sequence:\", X_train[0])\n",
    "print(\"Sample Training Target:\", y_train[0])\n"
   ]
  }
 ],
 "metadata": {
  "kernelspec": {
   "display_name": "energy_venv",
   "language": "python",
   "name": "python3"
  },
  "language_info": {
   "codemirror_mode": {
    "name": "ipython",
    "version": 3
   },
   "file_extension": ".py",
   "mimetype": "text/x-python",
   "name": "python",
   "nbconvert_exporter": "python",
   "pygments_lexer": "ipython3",
   "version": "3.10.11"
  }
 },
 "nbformat": 4,
 "nbformat_minor": 2
}
